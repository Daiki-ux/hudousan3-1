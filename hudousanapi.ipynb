{
 "cells": [
  {
   "cell_type": "code",
   "execution_count": 3,
   "id": "0a1af109-29fb-45be-9a82-f1f99ecdf9c6",
   "metadata": {},
   "outputs": [
    {
     "name": "stdout",
     "output_type": "stream",
     "text": [
      "Requirement already satisfied: requests in /usr/local/lib/python3.6/site-packages (2.27.1)\n",
      "Requirement already satisfied: charset-normalizer~=2.0.0 in /usr/local/lib/python3.6/site-packages (from requests) (2.0.12)\n",
      "Requirement already satisfied: idna<4,>=2.5 in /usr/local/lib/python3.6/site-packages (from requests) (3.3)\n",
      "Requirement already satisfied: certifi>=2017.4.17 in /usr/local/lib/python3.6/site-packages (from requests) (2021.10.8)\n",
      "Requirement already satisfied: urllib3<1.27,>=1.21.1 in /usr/local/lib/python3.6/site-packages (from requests) (1.26.9)\n",
      "\u001b[33mWARNING: Running pip as the 'root' user can result in broken permissions and conflicting behaviour with the system package manager. It is recommended to use a virtual environment instead: https://pip.pypa.io/warnings/venv\u001b[0m\n"
     ]
    }
   ],
   "source": [
    "!pip install requests"
   ]
  },
  {
   "cell_type": "code",
   "execution_count": null,
   "id": "dab2f2f8-4da1-4ab0-b3de-04a504b921a3",
   "metadata": {},
   "outputs": [],
   "source": [
    "import json\n",
    "import csv\n",
    "import requests\n",
    "import pandas as pd\n",
    " \n",
    "#url = \"https://www.land.mlit.go.jp/webland/api/TradeListSearch?from=20151&to=20202&city=13102\"\n",
    "url = \"https://www.land.mlit.go.jp/webland/api/TradeListSearch?from=20151&to=20202&area=13\"\n",
    "\n",
    "response = requests.get(url)\n",
    "jsonData = response.json()\n",
    " \n",
    "#Get keys\n",
    "keys=[]\n",
    "data_num = len(jsonData[\"data\"])\n",
    " \n",
    "for i in range(data_num):\n",
    "    keys.extend(list(jsonData[\"data\"][i].keys()))\n",
    "keys = set(keys)\n",
    " \n",
    "#Get data\n",
    "output=[keys]\n",
    "for i in range(data_num):\n",
    "    temp=[]\n",
    "    for key in keys:\n",
    "        try:\n",
    "            temp.append(jsonData[\"data\"][i][key])\n",
    "        except:\n",
    "            temp.append(\"NaN\")\n",
    "    output.append(temp)"
   ]
  },
  {
   "cell_type": "code",
   "execution_count": null,
   "id": "27b17cc4-5f96-4ed8-a8f2-c35c7c008dd3",
   "metadata": {},
   "outputs": [],
   "source": [
    "#Export CSV file\n",
    "with open(\"output.csv\", \"w\", newline=\"\") as f:\n",
    "    writer = csv.writer(f)\n",
    "    writer.writerows(output)"
   ]
  },
  {
   "cell_type": "code",
   "execution_count": null,
   "id": "fa97ca17-467f-4262-a2ca-fa811190da14",
   "metadata": {},
   "outputs": [],
   "source": [
    "pd.read_csv(\"output.csv\", encoding=\"SHIFT_JIS\")"
   ]
  },
  {
   "cell_type": "code",
   "execution_count": null,
   "id": "cce07cff-3fec-41cb-8eb0-567bcb200087",
   "metadata": {},
   "outputs": [],
   "source": []
  }
 ],
 "metadata": {
  "kernelspec": {
   "display_name": "Python 3",
   "language": "python",
   "name": "python3"
  },
  "language_info": {
   "codemirror_mode": {
    "name": "ipython",
    "version": 3
   },
   "file_extension": ".py",
   "mimetype": "text/x-python",
   "name": "python",
   "nbconvert_exporter": "python",
   "pygments_lexer": "ipython3",
   "version": "3.6.13"
  }
 },
 "nbformat": 4,
 "nbformat_minor": 5
}
